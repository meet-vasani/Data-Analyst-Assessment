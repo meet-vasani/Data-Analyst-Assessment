{
  "nbformat": 4,
  "nbformat_minor": 0,
  "metadata": {
    "colab": {
      "provenance": []
    },
    "kernelspec": {
      "name": "python3",
      "display_name": "Python 3"
    },
    "language_info": {
      "name": "python"
    }
  },
  "cells": [
    {
      "cell_type": "code",
      "execution_count": 16,
      "metadata": {
        "id": "CYtAdsMwi8Pl"
      },
      "outputs": [],
      "source": [
        "##Importing important Libraries\n",
        "\n",
        "import pandas as pd\n",
        "import numpy as np"
      ]
    },
    {
      "cell_type": "code",
      "source": [
        "##Importing Dataset\n",
        "\n",
        "df = pd.read_csv('social_data.xlsx - Data.csv')"
      ],
      "metadata": {
        "id": "wQswql3Poro1"
      },
      "execution_count": 17,
      "outputs": []
    },
    {
      "cell_type": "code",
      "source": [
        "## Retrieving top 5 Data values\n",
        "\n",
        "df.head()"
      ],
      "metadata": {
        "colab": {
          "base_uri": "https://localhost:8080/",
          "height": 206
        },
        "id": "wW5VSHjQo1Wa",
        "outputId": "27ac44ac-5553-421b-bb76-1282d1a66e49"
      },
      "execution_count": 18,
      "outputs": [
        {
          "output_type": "execute_result",
          "data": {
            "text/plain": [
              "     Published Date Account Account Type          Campaign Name  \\\n",
              "0  03-31-2023 19:55    CSGO      TWITTER                   N/A    \n",
              "1  03-31-2023 19:49    CSGO      TWITTER                   N/A    \n",
              "2  03-31-2023 19:49    CSGO      TWITTER                   N/A    \n",
              "3  03-31-2023 19:49    CSGO      TWITTER                   N/A    \n",
              "4  03-31-2023 19:43    CSGO      TWITTER  Community Engagement    \n",
              "\n",
              "   Total Impressions  Total Engagements Media Type  \n",
              "0                  0                  0       Text  \n",
              "1                  0                  0       Text  \n",
              "2                  0                  0       Text  \n",
              "3                  0                  0       Text  \n",
              "4               9517               1215      Video  "
            ],
            "text/html": [
              "\n",
              "  <div id=\"df-aea8e61a-a8e1-454c-a3f3-45236ac34fb6\">\n",
              "    <div class=\"colab-df-container\">\n",
              "      <div>\n",
              "<style scoped>\n",
              "    .dataframe tbody tr th:only-of-type {\n",
              "        vertical-align: middle;\n",
              "    }\n",
              "\n",
              "    .dataframe tbody tr th {\n",
              "        vertical-align: top;\n",
              "    }\n",
              "\n",
              "    .dataframe thead th {\n",
              "        text-align: right;\n",
              "    }\n",
              "</style>\n",
              "<table border=\"1\" class=\"dataframe\">\n",
              "  <thead>\n",
              "    <tr style=\"text-align: right;\">\n",
              "      <th></th>\n",
              "      <th>Published Date</th>\n",
              "      <th>Account</th>\n",
              "      <th>Account Type</th>\n",
              "      <th>Campaign Name</th>\n",
              "      <th>Total Impressions</th>\n",
              "      <th>Total Engagements</th>\n",
              "      <th>Media Type</th>\n",
              "    </tr>\n",
              "  </thead>\n",
              "  <tbody>\n",
              "    <tr>\n",
              "      <th>0</th>\n",
              "      <td>03-31-2023 19:55</td>\n",
              "      <td>CSGO</td>\n",
              "      <td>TWITTER</td>\n",
              "      <td>N/A</td>\n",
              "      <td>0</td>\n",
              "      <td>0</td>\n",
              "      <td>Text</td>\n",
              "    </tr>\n",
              "    <tr>\n",
              "      <th>1</th>\n",
              "      <td>03-31-2023 19:49</td>\n",
              "      <td>CSGO</td>\n",
              "      <td>TWITTER</td>\n",
              "      <td>N/A</td>\n",
              "      <td>0</td>\n",
              "      <td>0</td>\n",
              "      <td>Text</td>\n",
              "    </tr>\n",
              "    <tr>\n",
              "      <th>2</th>\n",
              "      <td>03-31-2023 19:49</td>\n",
              "      <td>CSGO</td>\n",
              "      <td>TWITTER</td>\n",
              "      <td>N/A</td>\n",
              "      <td>0</td>\n",
              "      <td>0</td>\n",
              "      <td>Text</td>\n",
              "    </tr>\n",
              "    <tr>\n",
              "      <th>3</th>\n",
              "      <td>03-31-2023 19:49</td>\n",
              "      <td>CSGO</td>\n",
              "      <td>TWITTER</td>\n",
              "      <td>N/A</td>\n",
              "      <td>0</td>\n",
              "      <td>0</td>\n",
              "      <td>Text</td>\n",
              "    </tr>\n",
              "    <tr>\n",
              "      <th>4</th>\n",
              "      <td>03-31-2023 19:43</td>\n",
              "      <td>CSGO</td>\n",
              "      <td>TWITTER</td>\n",
              "      <td>Community Engagement</td>\n",
              "      <td>9517</td>\n",
              "      <td>1215</td>\n",
              "      <td>Video</td>\n",
              "    </tr>\n",
              "  </tbody>\n",
              "</table>\n",
              "</div>\n",
              "      <button class=\"colab-df-convert\" onclick=\"convertToInteractive('df-aea8e61a-a8e1-454c-a3f3-45236ac34fb6')\"\n",
              "              title=\"Convert this dataframe to an interactive table.\"\n",
              "              style=\"display:none;\">\n",
              "        \n",
              "  <svg xmlns=\"http://www.w3.org/2000/svg\" height=\"24px\"viewBox=\"0 0 24 24\"\n",
              "       width=\"24px\">\n",
              "    <path d=\"M0 0h24v24H0V0z\" fill=\"none\"/>\n",
              "    <path d=\"M18.56 5.44l.94 2.06.94-2.06 2.06-.94-2.06-.94-.94-2.06-.94 2.06-2.06.94zm-11 1L8.5 8.5l.94-2.06 2.06-.94-2.06-.94L8.5 2.5l-.94 2.06-2.06.94zm10 10l.94 2.06.94-2.06 2.06-.94-2.06-.94-.94-2.06-.94 2.06-2.06.94z\"/><path d=\"M17.41 7.96l-1.37-1.37c-.4-.4-.92-.59-1.43-.59-.52 0-1.04.2-1.43.59L10.3 9.45l-7.72 7.72c-.78.78-.78 2.05 0 2.83L4 21.41c.39.39.9.59 1.41.59.51 0 1.02-.2 1.41-.59l7.78-7.78 2.81-2.81c.8-.78.8-2.07 0-2.86zM5.41 20L4 18.59l7.72-7.72 1.47 1.35L5.41 20z\"/>\n",
              "  </svg>\n",
              "      </button>\n",
              "      \n",
              "  <style>\n",
              "    .colab-df-container {\n",
              "      display:flex;\n",
              "      flex-wrap:wrap;\n",
              "      gap: 12px;\n",
              "    }\n",
              "\n",
              "    .colab-df-convert {\n",
              "      background-color: #E8F0FE;\n",
              "      border: none;\n",
              "      border-radius: 50%;\n",
              "      cursor: pointer;\n",
              "      display: none;\n",
              "      fill: #1967D2;\n",
              "      height: 32px;\n",
              "      padding: 0 0 0 0;\n",
              "      width: 32px;\n",
              "    }\n",
              "\n",
              "    .colab-df-convert:hover {\n",
              "      background-color: #E2EBFA;\n",
              "      box-shadow: 0px 1px 2px rgba(60, 64, 67, 0.3), 0px 1px 3px 1px rgba(60, 64, 67, 0.15);\n",
              "      fill: #174EA6;\n",
              "    }\n",
              "\n",
              "    [theme=dark] .colab-df-convert {\n",
              "      background-color: #3B4455;\n",
              "      fill: #D2E3FC;\n",
              "    }\n",
              "\n",
              "    [theme=dark] .colab-df-convert:hover {\n",
              "      background-color: #434B5C;\n",
              "      box-shadow: 0px 1px 3px 1px rgba(0, 0, 0, 0.15);\n",
              "      filter: drop-shadow(0px 1px 2px rgba(0, 0, 0, 0.3));\n",
              "      fill: #FFFFFF;\n",
              "    }\n",
              "  </style>\n",
              "\n",
              "      <script>\n",
              "        const buttonEl =\n",
              "          document.querySelector('#df-aea8e61a-a8e1-454c-a3f3-45236ac34fb6 button.colab-df-convert');\n",
              "        buttonEl.style.display =\n",
              "          google.colab.kernel.accessAllowed ? 'block' : 'none';\n",
              "\n",
              "        async function convertToInteractive(key) {\n",
              "          const element = document.querySelector('#df-aea8e61a-a8e1-454c-a3f3-45236ac34fb6');\n",
              "          const dataTable =\n",
              "            await google.colab.kernel.invokeFunction('convertToInteractive',\n",
              "                                                     [key], {});\n",
              "          if (!dataTable) return;\n",
              "\n",
              "          const docLinkHtml = 'Like what you see? Visit the ' +\n",
              "            '<a target=\"_blank\" href=https://colab.research.google.com/notebooks/data_table.ipynb>data table notebook</a>'\n",
              "            + ' to learn more about interactive tables.';\n",
              "          element.innerHTML = '';\n",
              "          dataTable['output_type'] = 'display_data';\n",
              "          await google.colab.output.renderOutput(dataTable, element);\n",
              "          const docLink = document.createElement('div');\n",
              "          docLink.innerHTML = docLinkHtml;\n",
              "          element.appendChild(docLink);\n",
              "        }\n",
              "      </script>\n",
              "    </div>\n",
              "  </div>\n",
              "  "
            ]
          },
          "metadata": {},
          "execution_count": 18
        }
      ]
    },
    {
      "cell_type": "markdown",
      "source": [
        "##Question 3. Game Titles performance"
      ],
      "metadata": {
        "id": "m_wANGBNcjYf"
      }
    },
    {
      "cell_type": "code",
      "source": [
        "##Finding sum of Total Impressions and Total Engagements for CSGO account with all the different campaigns\n",
        "\n",
        "cs_unknown_impressions = df.loc[(df['Account'] == 'CSGO')\n",
        " & (df['Campaign Name'] == 'N/A ') ,\"Total Impressions\"]\n",
        "cs_unknown_engagements = df.loc[(df['Account'] == 'CSGO')\n",
        " & (df['Campaign Name'] == 'N/A ') ,\"Total Engagements\"]\n",
        "total_cs_unknown_impressions = sum(cs_unknown_impressions)\n",
        "total_cs_unknown_engagements = sum(cs_unknown_engagements)\n",
        "\n",
        "cs_community_impressions = df.loc[(df['Account'] == 'CSGO')\n",
        " & (df['Campaign Name'] == 'Community Engagement ') ,\"Total Impressions\"]\n",
        "cs_community_engagements = df.loc[(df['Account'] == 'CSGO')\n",
        " & (df['Campaign Name'] == 'Community Engagement ') ,\"Total Engagements\"]\n",
        "total_cs_community_impressions = sum(cs_community_impressions)\n",
        "total_cs_community_engagements = sum(cs_community_engagements)\n",
        "\n",
        "cs_evergreen_impressions = df.loc[(df['Account'] == 'CSGO')\n",
        " & (df['Campaign Name'] == 'Evergreen ') ,\"Total Impressions\"]\n",
        "cs_evergreen_engagements = df.loc[(df['Account'] == 'CSGO')\n",
        " & (df['Campaign Name'] == 'Evergreen ') ,\"Total Engagements\"]\n",
        "total_cs_evergreen_impressions = sum(cs_evergreen_impressions)\n",
        "total_cs_evergreen_engagements = sum(cs_evergreen_engagements)\n",
        "\n",
        "cs_evil_impressions = df.loc[(df['Account'] == 'CSGO')\n",
        " & (df['Campaign Name'] == 'Evil Exhibited ') ,\"Total Impressions\"]\n",
        "cs_evil_engagements = df.loc[(df['Account'] == 'CSGO')\n",
        " & (df['Campaign Name'] == 'Evil Exhibited ') ,\"Total Engagements\"]\n",
        "total_cs_evil_impressions = sum(cs_evil_impressions)\n",
        "total_cs_evil_engagements = sum(cs_evil_engagements)\n",
        "\n",
        "cs_unknown = total_cs_unknown_engagements/total_cs_unknown_impressions * 100\n",
        "cs_community = total_cs_community_engagements/total_cs_community_impressions * 100"
      ],
      "metadata": {
        "id": "srlxRMl1ckWt"
      },
      "execution_count": 53,
      "outputs": []
    },
    {
      "cell_type": "code",
      "source": [
        "##Finding sum of Total Impressions and Total Engagements for DOTA2 account with all the different campaigns\n",
        "\n",
        "dota_unknown_impressions = df.loc[(df['Account'] == 'DOTA2')\n",
        " & (df['Campaign Name'] == 'N/A ') ,\"Total Impressions\"]\n",
        "dota_unknown_engagements = df.loc[(df['Account'] == 'DOTA2')\n",
        " & (df['Campaign Name'] == 'N/A ') ,\"Total Engagements\"]\n",
        "total_dota_unknown_impressions = sum(dota_unknown_impressions)\n",
        "total_dota_unknown_engagements = sum(dota_unknown_engagements)\n",
        "\n",
        "dota_community_impressions = df.loc[(df['Account'] == 'DOTA2')\n",
        " & (df['Campaign Name'] == 'Community Engagement ') ,\"Total Impressions\"]\n",
        "dota_community_engagements = df.loc[(df['Account'] == 'DOTA2')\n",
        " & (df['Campaign Name'] == 'Community Engagement ') ,\"Total Engagements\"]\n",
        "total_dota_community_impressions = sum(dota_community_impressions)\n",
        "total_dota_community_engagements = sum(dota_community_engagements)\n",
        "\n",
        "dota_community_impressions = df.loc[(df['Account'] == 'DOTA2')\n",
        " & (df['Campaign Name'] == 'Community Engagement ') ,\"Total Impressions\"]\n",
        "dota_community_engagements = df.loc[(df['Account'] == 'DOTA2')\n",
        " & (df['Campaign Name'] == 'Community Engagement ') ,\"Total Engagements\"]\n",
        "total_dota_community_impressions = sum(dota_community_impressions)\n",
        "total_dota_community_engagements = sum(dota_community_engagements)\n",
        "\n",
        "dota_evergreen_impressions = df.loc[(df['Account'] == 'DOTA2')\n",
        " & (df['Campaign Name'] == 'Evergreen ') ,\"Total Impressions\"]\n",
        "dota_evergreen_engagements = df.loc[(df['Account'] == 'DOTA2')\n",
        " & (df['Campaign Name'] == 'Evergreen ') ,\"Total Engagements\"]\n",
        "total_dota_evergreen_impressions = sum(dota_evergreen_impressions)\n",
        "total_dota_evergreen_engagements = sum(dota_evergreen_engagements)\n",
        "\n",
        "dota_evil_impressions = df.loc[(df['Account'] == 'DOTA2')\n",
        " & (df['Campaign Name'] == 'Evil Exhibited ') ,\"Total Impressions\"]\n",
        "dota_evil_engagements = df.loc[(df['Account'] == 'DOTA2')\n",
        " & (df['Campaign Name'] == 'Evil Exhibited ') ,\"Total Engagements\"]\n",
        "total_dota_evil_impressions = sum(dota_evil_impressions)\n",
        "total_dota_evil_engagements = sum(dota_evil_engagements)\n",
        "\n",
        "dota_unknown = total_dota_unknown_engagements/total_dota_unknown_impressions * 100\n",
        "dota_community = total_dota_community_engagements/total_dota_community_impressions * 100\n",
        "dota_evil = total_dota_evil_engagements/total_dota_evil_impressions * 100"
      ],
      "metadata": {
        "id": "_q45MC2adfdc"
      },
      "execution_count": 54,
      "outputs": []
    },
    {
      "cell_type": "code",
      "source": [
        "##Finding sum of Total Impressions and Total Engagements for Valorant account with all the different campaigns\n",
        "\n",
        "valo_unknown_impressions = df.loc[(df['Account'] == 'Valorant')\n",
        " & (df['Campaign Name'] == 'N/A ') ,\"Total Impressions\"]\n",
        "valo_unknown_engagements = df.loc[(df['Account'] == 'Valorant')\n",
        " & (df['Campaign Name'] == 'N/A ') ,\"Total Engagements\"]\n",
        "total_valo_unknown_impressions = sum(valo_unknown_impressions)\n",
        "total_valo_unknown_engagements = sum(valo_unknown_engagements)\n",
        "\n",
        "valo_community_impressions = df.loc[(df['Account'] == 'Valorant')\n",
        " & (df['Campaign Name'] == 'Community Engagement ') ,\"Total Impressions\"]\n",
        "valo_community_engagements = df.loc[(df['Account'] == 'Valorant')\n",
        " & (df['Campaign Name'] == 'Community Engagement ') ,\"Total Engagements\"]\n",
        "total_valo_community_impressions = sum(valo_community_impressions)\n",
        "total_valo_community_engagements = sum(valo_community_engagements)\n",
        "\n",
        "valo_evergreen_impressions = df.loc[(df['Account'] == 'Valorant')\n",
        " & (df['Campaign Name'] == 'Evergreen ') ,\"Total Impressions\"]\n",
        "valo_evergreen_engagements = df.loc[(df['Account'] == 'Valorant')\n",
        " & (df['Campaign Name'] == 'Evergreen ') ,\"Total Engagements\"]\n",
        "total_valo_evergreen_impressions = sum(valo_evergreen_impressions)\n",
        "total_valo_evergreen_engagements = sum(valo_evergreen_engagements)\n",
        "\n",
        "valo_evil_impressions = df.loc[(df['Account'] == 'Valorant')\n",
        " & (df['Campaign Name'] == 'Evil Exhibited ') ,\"Total Impressions\"]\n",
        "valo_evil_engagements = df.loc[(df['Account'] == 'Valorant')\n",
        " & (df['Campaign Name'] == 'Evil Exhibited ') ,\"Total Engagements\"]\n",
        "total_valo_evil_impressions = sum(valo_evil_impressions)\n",
        "total_valo_evil_engagements = sum(valo_evil_engagements)\n",
        "\n",
        "valo_unknown = total_valo_unknown_engagements/total_valo_unknown_impressions * 100\n",
        "valo_evil = total_valo_evil_engagements/total_valo_evil_impressions * 100"
      ],
      "metadata": {
        "id": "xqQqZs-NdsHh"
      },
      "execution_count": 55,
      "outputs": []
    },
    {
      "cell_type": "markdown",
      "source": [
        "## From the below calculations, we can see that Dota is getting the highest attraction. We can ease some focus on Dota and give more focus on Valorant and CSGO."
      ],
      "metadata": {
        "id": "oVUDyT6OqZKY"
      }
    },
    {
      "cell_type": "code",
      "source": [
        "## Out of 3 games, we can see that Dota 2 is getting the most attraction from all the campaigns.\n",
        "## As Dota 2 is performing the best, it is okay to ease some focus and give some more focus to Valorant and CSGO.\n",
        "\n",
        "print('Counter Strike', cs_unknown + cs_community)\n",
        "print('Dota ', dota_unknown + dota_community + dota_evil)\n",
        "print('Valo ', valo_unknown + valo_evil)"
      ],
      "metadata": {
        "colab": {
          "base_uri": "https://localhost:8080/"
        },
        "id": "5ZCMKHqwektJ",
        "outputId": "fe095a25-1133-4302-ff30-28ce6d50660f"
      },
      "execution_count": 56,
      "outputs": [
        {
          "output_type": "stream",
          "name": "stdout",
          "text": [
            "Counter Strike 12.618313684745381\n",
            "Dota  17.930993624639356\n",
            "Valo  8.78768348197696\n"
          ]
        }
      ]
    },
    {
      "cell_type": "markdown",
      "source": [
        "## Question 4. What Media type performs the best"
      ],
      "metadata": {
        "id": "2rxmcJYBi_YW"
      }
    },
    {
      "cell_type": "code",
      "source": [
        "##Retrieving unique values for the column Media Type\n",
        "\n",
        "df['Media Type'].unique()"
      ],
      "metadata": {
        "colab": {
          "base_uri": "https://localhost:8080/"
        },
        "id": "viV0hcU_22TA",
        "outputId": "6ab65246-1459-4eb4-f260-02e8ada6ecff"
      },
      "execution_count": 19,
      "outputs": [
        {
          "output_type": "execute_result",
          "data": {
            "text/plain": [
              "array(['Text', 'Video', 'Photo', 'Link', 'Carousel', 'Mixed', 'Album'],\n",
              "      dtype=object)"
            ]
          },
          "metadata": {},
          "execution_count": 19
        }
      ]
    },
    {
      "cell_type": "code",
      "source": [
        "##Finding sum of Total Impressions and Total Engagements for Media type = Text\n",
        "\n",
        "text_impressions = df.loc[df['Media Type'] == 'Text', 'Total Impressions']\n",
        "text_engagements = df.loc[df['Media Type'] == 'Text', 'Total Engagements']\n",
        "total_text_impression = sum(text_impressions)\n",
        "total_text_engagements = sum(text_engagements)"
      ],
      "metadata": {
        "id": "-9KwBN5Up9Rr"
      },
      "execution_count": 20,
      "outputs": []
    },
    {
      "cell_type": "code",
      "source": [
        "##Finding sum of Total Impressions and Total Engagements for Media type = Video\n",
        "\n",
        "video_impressions = df.loc[df['Media Type'] == 'Video', 'Total Impressions']\n",
        "video_engagements = df.loc[df['Media Type'] == 'Video', 'Total Engagements']\n",
        "total_video_impression = sum(video_impressions)\n",
        "total_video_engagements = sum(video_engagements)"
      ],
      "metadata": {
        "id": "wcRIy3Sb0PZm"
      },
      "execution_count": 22,
      "outputs": []
    },
    {
      "cell_type": "code",
      "source": [
        "##Finding sum of Total Impressions and Total Engagements for Media type = Photo\n",
        "\n",
        "photo_impressions = df.loc[df['Media Type'] == 'Photo', 'Total Impressions']\n",
        "photo_engagements = df.loc[df['Media Type'] == 'Photo', 'Total Engagements']\n",
        "total_photo_impression = sum(photo_impressions)\n",
        "total_photo_engagements = sum(photo_engagements)"
      ],
      "metadata": {
        "id": "SstHc9Sl6mp9"
      },
      "execution_count": 23,
      "outputs": []
    },
    {
      "cell_type": "code",
      "source": [
        "##Finding sum of Total Impressions and Total Engagements for Media type = Link\n",
        "\n",
        "link_impressions = df.loc[df['Media Type'] == 'Link', 'Total Impressions']\n",
        "link_engagements = df.loc[df['Media Type'] == 'Link', 'Total Engagements']\n",
        "total_link_impression = sum(link_impressions)\n",
        "total_link_engagements = sum(link_engagements)"
      ],
      "metadata": {
        "id": "ldC_Tiu86uKV"
      },
      "execution_count": 24,
      "outputs": []
    },
    {
      "cell_type": "code",
      "source": [
        "##Finding sum of Total Impressions and Total Engagements for Media type = Carousel\n",
        "\n",
        "carousel_impressions = df.loc[df['Media Type'] == 'Carousel', 'Total Impressions']\n",
        "carousel_engagements = df.loc[df['Media Type'] == 'Carousel', 'Total Engagements']\n",
        "total_carousel_impression = sum(carousel_impressions)\n",
        "total_carousel_engagements = sum(carousel_engagements)"
      ],
      "metadata": {
        "id": "8-pqy1QJ6xOY"
      },
      "execution_count": 25,
      "outputs": []
    },
    {
      "cell_type": "code",
      "source": [
        "##Finding sum of Total Impressions and Total Engagements for Media type = Mixed\n",
        "\n",
        "mixed_impressions = df.loc[df['Media Type'] == 'Mixed', 'Total Impressions']\n",
        "mixed_engagements = df.loc[df['Media Type'] == 'Mixed', 'Total Engagements']\n",
        "total_mixed_impression = sum(mixed_impressions)\n",
        "total_mixed_engagements = sum(mixed_engagements)"
      ],
      "metadata": {
        "id": "DtZzWdSO62hh"
      },
      "execution_count": 26,
      "outputs": []
    },
    {
      "cell_type": "code",
      "source": [
        "##Finding sum of Total Impressions and Total Engagements for Media type = Album\n",
        "\n",
        "album_impressions = df.loc[df['Media Type'] == 'Album', 'Total Impressions']\n",
        "album_engagements = df.loc[df['Media Type'] == 'Album', 'Total Engagements']\n",
        "total_album_impression = sum(album_impressions)\n",
        "total_album_engagements = sum(album_engagements)"
      ],
      "metadata": {
        "id": "WCHfmYqD65Os"
      },
      "execution_count": 33,
      "outputs": []
    },
    {
      "cell_type": "markdown",
      "source": [
        "## From below calculations, we can see that Album Media type gets the best performance of all."
      ],
      "metadata": {
        "id": "yoIG9qeiblbE"
      }
    },
    {
      "cell_type": "code",
      "source": [
        "##Finally finding the performance on each Media type, where the highest value was achieved by Album\n",
        "\n",
        "text_performance = total_text_engagements/total_text_impression\n",
        "video_performance = total_video_engagements/total_video_impression\n",
        "photo_performance = total_photo_engagements/total_photo_impression\n",
        "link_performance = total_link_engagements/total_link_impression\n",
        "carousel_performance = total_carousel_engagements/total_carousel_impression\n",
        "mixed_performance = total_mixed_engagements/total_mixed_impression\n",
        "album_performance = total_album_engagements/total_album_impression\n",
        "print('Text ', text_performance)\n",
        "print('Video ', video_performance)\n",
        "print('Photo ', photo_performance)\n",
        "print('Link ', link_performance)\n",
        "print('Carousel ', carousel_performance)\n",
        "print('Mixed ', mixed_performance)\n",
        "print('Album ', album_performance)"
      ],
      "metadata": {
        "colab": {
          "base_uri": "https://localhost:8080/"
        },
        "id": "lmKXIlha7auw",
        "outputId": "1f399c88-f6ca-4275-97a8-13ba6126d7a1"
      },
      "execution_count": 34,
      "outputs": [
        {
          "output_type": "stream",
          "name": "stdout",
          "text": [
            "Text  0.07929681350510576\n",
            "Video  0.08111997823840779\n",
            "Photo  0.09072318263101452\n",
            "Link  0.009708988449874174\n",
            "Carousel  0.040705959959922586\n",
            "Mixed  0.07386584785711196\n",
            "Album  0.4\n"
          ]
        }
      ]
    },
    {
      "cell_type": "markdown",
      "source": [
        "## Question 5. Best Performing Campaign"
      ],
      "metadata": {
        "id": "YEc38AseD7F0"
      }
    },
    {
      "cell_type": "code",
      "source": [
        "##Retrieving unique values for the column Account, Account Type and Campaign Name\n",
        "\n",
        "print(df['Account'].unique())\n",
        "print(df['Account Type'].unique())\n",
        "print(df['Campaign Name'].unique())"
      ],
      "metadata": {
        "colab": {
          "base_uri": "https://localhost:8080/"
        },
        "id": "rsxzd1kKINLd",
        "outputId": "6431ff7d-29dd-4478-9b31-c5016fb1acfb"
      },
      "execution_count": 35,
      "outputs": [
        {
          "output_type": "stream",
          "name": "stdout",
          "text": [
            "['CSGO' 'General ' 'DOTA2' 'Content Creators' 'Valorant' 'General']\n",
            "['TWITTER' 'FBPAGE' 'INSTAGRAM' 'TIKTOK_BUSINESS' 'YOUTUBE'\n",
            " 'LINKEDIN_COMPANY']\n",
            "['N/A ' 'Community Engagement ' 'Evergreen ' 'Evil Exhibited ']\n"
          ]
        }
      ]
    },
    {
      "cell_type": "code",
      "source": [
        "##Finding sum of Total Impressions and Total Engagements for CSGO account with all the different campaigns\n",
        "\n",
        "cs_unknown_impressions = df.loc[(df['Account'] == 'CSGO')\n",
        " & (df['Campaign Name'] == 'N/A ') ,\"Total Impressions\"]\n",
        "cs_unknown_engagements = df.loc[(df['Account'] == 'CSGO')\n",
        " & (df['Campaign Name'] == 'N/A ') ,\"Total Engagements\"]\n",
        "total_cs_unknown_impressions = sum(cs_unknown_impressions)\n",
        "total_cs_unknown_engagements = sum(cs_unknown_engagements)\n",
        "\n",
        "cs_community_impressions = df.loc[(df['Account'] == 'CSGO')\n",
        " & (df['Campaign Name'] == 'Community Engagement ') ,\"Total Impressions\"]\n",
        "cs_community_engagements = df.loc[(df['Account'] == 'CSGO')\n",
        " & (df['Campaign Name'] == 'Community Engagement ') ,\"Total Engagements\"]\n",
        "total_cs_community_impressions = sum(cs_community_impressions)\n",
        "total_cs_community_engagements = sum(cs_community_engagements)\n",
        "\n",
        "cs_evergreen_impressions = df.loc[(df['Account'] == 'CSGO')\n",
        " & (df['Campaign Name'] == 'Evergreen ') ,\"Total Impressions\"]\n",
        "cs_evergreen_engagements = df.loc[(df['Account'] == 'CSGO')\n",
        " & (df['Campaign Name'] == 'Evergreen ') ,\"Total Engagements\"]\n",
        "total_cs_evergreen_impressions = sum(cs_evergreen_impressions)\n",
        "total_cs_evergreen_engagements = sum(cs_evergreen_engagements)\n",
        "\n",
        "cs_evil_impressions = df.loc[(df['Account'] == 'CSGO')\n",
        " & (df['Campaign Name'] == 'Evil Exhibited ') ,\"Total Impressions\"]\n",
        "cs_evil_engagements = df.loc[(df['Account'] == 'CSGO')\n",
        " & (df['Campaign Name'] == 'Evil Exhibited ') ,\"Total Engagements\"]\n",
        "total_cs_evil_impressions = sum(cs_evil_impressions)\n",
        "total_cs_evil_engagements = sum(cs_evil_engagements)\n",
        "\n",
        "cs_unknown = total_cs_unknown_engagements/total_cs_unknown_impressions * 100\n",
        "cs_community = total_cs_community_engagements/total_cs_community_impressions * 100"
      ],
      "metadata": {
        "id": "_pjU5rKvN1U4"
      },
      "execution_count": 52,
      "outputs": []
    },
    {
      "cell_type": "code",
      "source": [
        "##Finding sum of Total Impressions and Total Engagements for General Account with all the different campaigns\n",
        "\n",
        "gen_unknown_impressions = df.loc[(df['Account'] == 'General')\n",
        " & (df['Campaign Name'] == 'N/A ') ,\"Total Impressions\"]\n",
        "gen_unknown_engagements = df.loc[(df['Account'] == 'General')\n",
        " & (df['Campaign Name'] == 'N/A ') ,\"Total Engagements\"]\n",
        "total_gen_unknown_impressions = sum(gen_unknown_impressions)\n",
        "total_gen_unknown_engagements = sum(gen_unknown_engagements)\n",
        "\n",
        "gen_community_impressions = df.loc[(df['Account'] == 'General')\n",
        " & (df['Campaign Name'] == 'Community Engagement ') ,\"Total Impressions\"]\n",
        "gen_community_engagements = df.loc[(df['Account'] == 'General')\n",
        " & (df['Campaign Name'] == 'Community Engagement ') ,\"Total Engagements\"]\n",
        "total_gen_community_impressions = sum(gen_community_impressions)\n",
        "total_gen_community_engagements = sum(gen_community_engagements)\n",
        "\n",
        "gen_evergreen_impressions = df.loc[(df['Account'] == 'General')\n",
        " & (df['Campaign Name'] == 'Evergreen ') ,\"Total Impressions\"]\n",
        "gen_evergreen_engagements = df.loc[(df['Account'] == 'General')\n",
        " & (df['Campaign Name'] == 'Evergreen ') ,\"Total Engagements\"]\n",
        "total_gen_evergreen_impressions = sum(gen_evergreen_impressions)\n",
        "total_gen_evergreen_engagements = sum(gen_evergreen_engagements)\n",
        "\n",
        "gen_evil_impressions = df.loc[(df['Account'] == 'General')\n",
        " & (df['Campaign Name'] == 'Evil Exhibited ') ,\"Total Impressions\"]\n",
        "gen_evil_engagements = df.loc[(df['Account'] == 'General')\n",
        " & (df['Campaign Name'] == 'Evil Exhibited ') ,\"Total Engagements\"]\n",
        "total_gen_evil_impressions = sum(gen_evil_impressions)\n",
        "total_gen_evil_engagements = sum(gen_evil_engagements)\n",
        "\n",
        "gen_unknown = total_gen_unknown_engagements/total_gen_unknown_impressions * 100\n",
        "gen_community = total_gen_community_engagements/total_gen_community_impressions * 100\n",
        "gen_evil = total_gen_evil_engagements/total_gen_evil_impressions * 100"
      ],
      "metadata": {
        "id": "dRKRbpvHTYLN"
      },
      "execution_count": 50,
      "outputs": []
    },
    {
      "cell_type": "code",
      "source": [
        "##Finding sum of Total Impressions and Total Engagements for Dota account with all the different campaigns\n",
        "\n",
        "dota_unknown_impressions = df.loc[(df['Account'] == 'DOTA2')\n",
        " & (df['Campaign Name'] == 'N/A ') ,\"Total Impressions\"]\n",
        "dota_unknown_engagements = df.loc[(df['Account'] == 'DOTA2')\n",
        " & (df['Campaign Name'] == 'N/A ') ,\"Total Engagements\"]\n",
        "total_dota_unknown_impressions = sum(dota_unknown_impressions)\n",
        "total_dota_unknown_engagements = sum(dota_unknown_engagements)\n",
        "\n",
        "dota_community_impressions = df.loc[(df['Account'] == 'DOTA2')\n",
        " & (df['Campaign Name'] == 'Community Engagement ') ,\"Total Impressions\"]\n",
        "dota_community_engagements = df.loc[(df['Account'] == 'DOTA2')\n",
        " & (df['Campaign Name'] == 'Community Engagement ') ,\"Total Engagements\"]\n",
        "total_dota_community_impressions = sum(dota_community_impressions)\n",
        "total_dota_community_engagements = sum(dota_community_engagements)\n",
        "\n",
        "dota_community_impressions = df.loc[(df['Account'] == 'DOTA2')\n",
        " & (df['Campaign Name'] == 'Community Engagement ') ,\"Total Impressions\"]\n",
        "dota_community_engagements = df.loc[(df['Account'] == 'DOTA2')\n",
        " & (df['Campaign Name'] == 'Community Engagement ') ,\"Total Engagements\"]\n",
        "total_dota_community_impressions = sum(dota_community_impressions)\n",
        "total_dota_community_engagements = sum(dota_community_engagements)\n",
        "\n",
        "dota_evergreen_impressions = df.loc[(df['Account'] == 'DOTA2')\n",
        " & (df['Campaign Name'] == 'Evergreen ') ,\"Total Impressions\"]\n",
        "dota_evergreen_engagements = df.loc[(df['Account'] == 'DOTA2')\n",
        " & (df['Campaign Name'] == 'Evergreen ') ,\"Total Engagements\"]\n",
        "total_dota_evergreen_impressions = sum(dota_evergreen_impressions)\n",
        "total_dota_evergreen_engagements = sum(dota_evergreen_engagements)\n",
        "\n",
        "dota_evil_impressions = df.loc[(df['Account'] == 'DOTA2')\n",
        " & (df['Campaign Name'] == 'Evil Exhibited ') ,\"Total Impressions\"]\n",
        "dota_evil_engagements = df.loc[(df['Account'] == 'DOTA2')\n",
        " & (df['Campaign Name'] == 'Evil Exhibited ') ,\"Total Engagements\"]\n",
        "total_dota_evil_impressions = sum(dota_evil_impressions)\n",
        "total_dota_evil_engagements = sum(dota_evil_engagements)\n",
        "\n",
        "dota_unknown = total_dota_unknown_engagements/total_dota_unknown_impressions * 100\n",
        "dota_community = total_dota_community_engagements/total_dota_community_impressions * 100\n",
        "dota_evil = total_dota_evil_engagements/total_dota_evil_impressions * 100"
      ],
      "metadata": {
        "id": "vuMBnYwFe0Hj"
      },
      "execution_count": 57,
      "outputs": []
    },
    {
      "cell_type": "code",
      "source": [
        "##Finding sum of Total Impressions and Total Engagements for Content Creator account with all the different campaigns\n",
        "\n",
        "cc_unknown_impressions = df.loc[(df['Account'] == 'Content Creators')\n",
        " & (df['Campaign Name'] == 'N/A ') ,\"Total Impressions\"]\n",
        "cc_unknown_engagements = df.loc[(df['Account'] == 'Content Creators')\n",
        " & (df['Campaign Name'] == 'N/A ') ,\"Total Engagements\"]\n",
        "total_cc_unknown_impressions = sum(cc_unknown_impressions)\n",
        "total_cc_unknown_engagements = sum(cc_unknown_engagements)\n",
        "\n",
        "cc_community_impressions = df.loc[(df['Account'] == 'Content Creators')\n",
        " & (df['Campaign Name'] == 'Community Engagement ') ,\"Total Impressions\"]\n",
        "cc_community_engagements = df.loc[(df['Account'] == 'Content Creators')\n",
        " & (df['Campaign Name'] == 'Community Engagement ') ,\"Total Engagements\"]\n",
        "total_cc_community_impressions = sum(cc_community_impressions)\n",
        "total_cc_community_engagements = sum(cc_community_engagements)\n",
        "\n",
        "cc_evergreen_impressions = df.loc[(df['Account'] == 'Content Creators')\n",
        " & (df['Campaign Name'] == 'Evergreen ') ,\"Total Impressions\"]\n",
        "cc_evergreen_engagements = df.loc[(df['Account'] == 'Content Creators')\n",
        " & (df['Campaign Name'] == 'Evergreen ') ,\"Total Engagements\"]\n",
        "total_cc_evergreen_impressions = sum(cc_evergreen_impressions)\n",
        "total_cc_evergreen_engagements = sum(cc_evergreen_engagements)\n",
        "\n",
        "cc_evil_impressions = df.loc[(df['Account'] == 'Content Creators')\n",
        " & (df['Campaign Name'] == 'Evil Exhibited ') ,\"Total Impressions\"]\n",
        "cc_evil_engagements = df.loc[(df['Account'] == 'Content Creators')\n",
        " & (df['Campaign Name'] == 'Evil Exhibited ') ,\"Total Engagements\"]\n",
        "total_cc_evil_impressions = sum(cc_evil_impressions)\n",
        "total_cc_evil_engagements = sum(cc_evil_engagements)\n",
        "\n",
        "cc_unknown = total_cc_unknown_engagements/total_cc_unknown_impressions * 100\n",
        "cc_community = total_cc_community_engagements/total_cc_community_impressions * 100\n",
        "cc_evergreen = total_cc_evergreen_engagements/total_cc_evergreen_impressions * 100"
      ],
      "metadata": {
        "id": "LjX74TcYgOSv"
      },
      "execution_count": 58,
      "outputs": []
    },
    {
      "cell_type": "code",
      "source": [
        "##Finding sum of Total Impressions and Total Engagements for Valorant account with all the different campaigns\n",
        "\n",
        "valo_unknown_impressions = df.loc[(df['Account'] == 'Valorant')\n",
        " & (df['Campaign Name'] == 'N/A ') ,\"Total Impressions\"]\n",
        "valo_unknown_engagements = df.loc[(df['Account'] == 'Valorant')\n",
        " & (df['Campaign Name'] == 'N/A ') ,\"Total Engagements\"]\n",
        "total_valo_unknown_impressions = sum(valo_unknown_impressions)\n",
        "total_valo_unknown_engagements = sum(valo_unknown_engagements)\n",
        "\n",
        "valo_community_impressions = df.loc[(df['Account'] == 'Valorant')\n",
        " & (df['Campaign Name'] == 'Community Engagement ') ,\"Total Impressions\"]\n",
        "valo_community_engagements = df.loc[(df['Account'] == 'Valorant')\n",
        " & (df['Campaign Name'] == 'Community Engagement ') ,\"Total Engagements\"]\n",
        "total_valo_community_impressions = sum(valo_community_impressions)\n",
        "total_valo_community_engagements = sum(valo_community_engagements)\n",
        "\n",
        "valo_evergreen_impressions = df.loc[(df['Account'] == 'Valorant')\n",
        " & (df['Campaign Name'] == 'Evergreen ') ,\"Total Impressions\"]\n",
        "valo_evergreen_engagements = df.loc[(df['Account'] == 'Valorant')\n",
        " & (df['Campaign Name'] == 'Evergreen ') ,\"Total Engagements\"]\n",
        "total_valo_evergreen_impressions = sum(valo_evergreen_impressions)\n",
        "total_valo_evergreen_engagements = sum(valo_evergreen_engagements)\n",
        "\n",
        "valo_evil_impressions = df.loc[(df['Account'] == 'Valorant')\n",
        " & (df['Campaign Name'] == 'Evil Exhibited ') ,\"Total Impressions\"]\n",
        "valo_evil_engagements = df.loc[(df['Account'] == 'Valorant')\n",
        " & (df['Campaign Name'] == 'Evil Exhibited ') ,\"Total Engagements\"]\n",
        "total_valo_evil_impressions = sum(valo_evil_impressions)\n",
        "total_valo_evil_engagements = sum(valo_evil_engagements)\n",
        "\n",
        "valo_unknown = total_valo_unknown_engagements/total_valo_unknown_impressions * 100\n",
        "valo_evil = total_valo_evil_engagements/total_valo_evil_impressions * 100"
      ],
      "metadata": {
        "id": "1Ekee3gWnLtZ"
      },
      "execution_count": 59,
      "outputs": []
    },
    {
      "cell_type": "code",
      "source": [
        "##Performance of every Campaign with every account\n",
        "\n",
        "print('CSGO account with unknown campaign ', cs_unknown)\n",
        "print('CSGO account with community campaign ', cs_community)\n",
        "print('General account with unknown campaign' , gen_unknown)\n",
        "print('General account with community campaign' , gen_community)\n",
        "print('General account with evil campaign' , gen_evil)\n",
        "print('Dota2 account with unknown campaign ', dota_unknown)\n",
        "print('Dota2 account with community campaign ', dota_community)\n",
        "print('Dota2 account with evil campaign ', dota_evil)\n",
        "print('Content creator with unknown campaign ', cc_unknown)\n",
        "print('Content creator with community campaign ', cc_community)\n",
        "print('Content creator with evergreen campaign ', cc_evergreen)\n",
        "print('Valo with unknown campaign ', valo_unknown)\n",
        "print('Valo with evil campaign ', valo_evil)"
      ],
      "metadata": {
        "colab": {
          "base_uri": "https://localhost:8080/"
        },
        "id": "4cPB_6UStVmC",
        "outputId": "2349b866-d9eb-403a-b22f-729b411c96bf"
      },
      "execution_count": 71,
      "outputs": [
        {
          "output_type": "stream",
          "name": "stdout",
          "text": [
            "CSGO account with unknown campaign  8.992721146816693\n",
            "CSGO account with community campaign  3.6255925379286875\n",
            "General account with unknown campaign 1.6272565471650138\n",
            "General account with community campaign 1.9210966662376112\n",
            "General account with evil campaign 3.2132676859289973\n",
            "Dota2 account with unknown campaign  6.731040760490098\n",
            "Dota2 account with community campaign  6.838093987240216\n",
            "Dota2 account with evil campaign  4.361858876909045\n",
            "Content creator with unknown campaign  2.922852444588554\n",
            "Content creator with community campaign  6.209313970956434\n",
            "Content creator with evergreen campaign  8.333333333333332\n",
            "Valo with unknown campaign  4.774305555555555\n",
            "Valo with evil campaign  4.013377926421405\n"
          ]
        }
      ]
    },
    {
      "cell_type": "code",
      "source": [
        "##Retrieving unique values for the column Campaign Name\n",
        "\n",
        "print(df['Campaign Name'].unique())"
      ],
      "metadata": {
        "colab": {
          "base_uri": "https://localhost:8080/"
        },
        "id": "Lz5bsRhSRSRN",
        "outputId": "58000cff-98ca-4972-a65d-501141e5a4f5"
      },
      "execution_count": 60,
      "outputs": [
        {
          "output_type": "stream",
          "name": "stdout",
          "text": [
            "['N/A ' 'Community Engagement ' 'Evergreen ' 'Evil Exhibited ']\n"
          ]
        }
      ]
    },
    {
      "cell_type": "code",
      "source": [
        "##Finding sum of Total Impressions and Total Engagements for Unknown campaign\n",
        "\n",
        "unknown_impressions = df.loc[df['Campaign Name'] == 'N/A ', 'Total Impressions']\n",
        "unknown_engagements = df.loc[df['Campaign Name'] == 'N/A ', 'Total Engagements']\n",
        "total_unknown_impression = sum(unknown_impressions)\n",
        "total_unknown_engagements = sum(unknown_engagements)"
      ],
      "metadata": {
        "id": "O30T2VufRWz-"
      },
      "execution_count": 65,
      "outputs": []
    },
    {
      "cell_type": "code",
      "source": [
        "##Finding sum of Total Impressions and Total Engagements for Community campaign\n",
        "\n",
        "community_impressions = df.loc[df['Campaign Name'] == 'Community Engagement ', 'Total Impressions']\n",
        "community_engagements = df.loc[df['Campaign Name'] == 'Community Engagement ', 'Total Engagements']\n",
        "total_community_impression = sum(community_impressions)\n",
        "total_community_engagements = sum(community_engagements)"
      ],
      "metadata": {
        "id": "xFT59u0cSfa6"
      },
      "execution_count": 66,
      "outputs": []
    },
    {
      "cell_type": "code",
      "source": [
        "##Finding sum of Total Impressions and Total Engagements for Evergreen campaign\n",
        "\n",
        "evergreen_impressions = df.loc[df['Campaign Name'] == 'Evergreen ', 'Total Impressions']\n",
        "evergreen_engagements = df.loc[df['Campaign Name'] == 'Evergreen ', 'Total Engagements']\n",
        "total_evergreen_impression = sum(evergreen_impressions)\n",
        "total_evergreen_engagements = sum(evergreen_engagements)"
      ],
      "metadata": {
        "id": "aby5PegHTkk0"
      },
      "execution_count": 67,
      "outputs": []
    },
    {
      "cell_type": "code",
      "source": [
        "##Finding sum of Total Impressions and Total Engagements for Evil Exhibited campaign\n",
        "\n",
        "evil_impressions = df.loc[df['Campaign Name'] == 'Evil Exhibited ', 'Total Impressions']\n",
        "evil_engagements = df.loc[df['Campaign Name'] == 'Evil Exhibited ', 'Total Engagements']\n",
        "total_evil_impression = sum(evil_impressions)\n",
        "total_evil_engagements = sum(evil_engagements)"
      ],
      "metadata": {
        "id": "0I83SXkLVAvZ"
      },
      "execution_count": 68,
      "outputs": []
    },
    {
      "cell_type": "code",
      "source": [
        "## Performance of only Campaigns\n",
        "\n",
        "unknown_performance = total_unknown_engagements/total_unknown_impression\n",
        "community_performance = total_community_engagements/total_community_impression\n",
        "evergreen_performance = total_evergreen_engagements/total_evergreen_impression\n",
        "evil_performance = total_evil_engagements/total_evil_impression\n",
        "print('Unknown Campaign performance ', unknown_performance)\n",
        "print('Community Campaign performance ', community_performance)\n",
        "print('Evergreen Campaign performance ', evergreen_performance)\n",
        "print('Evil Echibited Campaign performace ', evil_performance)"
      ],
      "metadata": {
        "colab": {
          "base_uri": "https://localhost:8080/"
        },
        "id": "vft0ZoEuWBtP",
        "outputId": "c3b76478-a444-492b-f1d2-ae3e92be7204"
      },
      "execution_count": 82,
      "outputs": [
        {
          "output_type": "stream",
          "name": "stdout",
          "text": [
            "Unknown Campaign performance  0.14014263465790894\n",
            "Community Campaign performance  0.08590102335110476\n",
            "Evergreen Campaign performance  0.03245733328617047\n",
            "Evil Echibited Campaign performace  0.03226851275425134\n"
          ]
        }
      ]
    },
    {
      "cell_type": "markdown",
      "source": [
        "## If we are only looking for which campaign performed best, then it was the Unknown campaign and Community campaign.\n",
        "\n",
        "##If we are looking which campaign worked best for which account, then the first best campaign till now was from the CSGO account for unknown campaign.\n",
        "## The second best campaign was from Content Creator account for Evergreen campagin.\n"
      ],
      "metadata": {
        "id": "RnJ_VcKisjU6"
      }
    },
    {
      "cell_type": "markdown",
      "source": [
        "## Question 6. Posting strategy for Social channels"
      ],
      "metadata": {
        "id": "44wnZ99eVuZp"
      }
    },
    {
      "cell_type": "code",
      "source": [
        "##Retrieving unique values for the column Account Type\n",
        "\n",
        "print(df['Account Type'].unique())"
      ],
      "metadata": {
        "colab": {
          "base_uri": "https://localhost:8080/"
        },
        "id": "YOhQNWskfDIe",
        "outputId": "79f06ed4-988e-480f-ddd3-9cfd0ff79c57"
      },
      "execution_count": 83,
      "outputs": [
        {
          "output_type": "stream",
          "name": "stdout",
          "text": [
            "['TWITTER' 'FBPAGE' 'INSTAGRAM' 'TIKTOK_BUSINESS' 'YOUTUBE'\n",
            " 'LINKEDIN_COMPANY']\n"
          ]
        }
      ]
    },
    {
      "cell_type": "code",
      "source": [
        "##Finding sum of Total Impressions and Total Engagements for Account Type = Twitter\n",
        "\n",
        "twitter_impressions = df.loc[df['Account Type'] == 'TWITTER', 'Total Impressions']\n",
        "twitter_engagements = df.loc[df['Account Type'] == 'TWITTER', 'Total Engagements']\n",
        "total_twitter_impression = sum(twitter_impressions)\n",
        "total_twitter_engagements = sum(twitter_engagements)"
      ],
      "metadata": {
        "id": "F77N52qZaHkM"
      },
      "execution_count": 84,
      "outputs": []
    },
    {
      "cell_type": "code",
      "source": [
        "##Finding sum of Total Impressions and Total Engagements for Account Type = Facebook\n",
        "\n",
        "fbpage_impressions = df.loc[df['Account Type'] == 'FBPAGE', 'Total Impressions']\n",
        "fbpage_engagements = df.loc[df['Account Type'] == 'FBPAGE', 'Total Engagements']\n",
        "total_fbpage_impression = sum(fbpage_impressions)\n",
        "total_fbpage_engagements = sum(fbpage_engagements)"
      ],
      "metadata": {
        "id": "QiRZ_6wQfhMe"
      },
      "execution_count": 85,
      "outputs": []
    },
    {
      "cell_type": "code",
      "source": [
        "##Finding sum of Total Impressions and Total Engagements for Account Type = Instagram\n",
        "\n",
        "insta_impressions = df.loc[df['Account Type'] == 'INSTAGRAM', 'Total Impressions']\n",
        "insta_engagements = df.loc[df['Account Type'] == 'INSTAGRAM', 'Total Engagements']\n",
        "total_insta_impression = sum(insta_impressions)\n",
        "total_insta_engagements = sum(insta_engagements)"
      ],
      "metadata": {
        "id": "S_T9EPNXf3Nm"
      },
      "execution_count": 86,
      "outputs": []
    },
    {
      "cell_type": "code",
      "source": [
        "##Finding sum of Total Impressions and Total Engagements for Account Type = Tik Tok\n",
        "\n",
        "tiktok_impressions = df.loc[df['Account Type'] == 'TIKTOK_BUSINESS', 'Total Impressions']\n",
        "tiktok_engagements = df.loc[df['Account Type'] == 'TIKTOK_BUSINESS', 'Total Engagements']\n",
        "total_tiktok_impression = sum(tiktok_impressions)\n",
        "total_tiktok_engagements = sum(tiktok_engagements)"
      ],
      "metadata": {
        "id": "nA02IdVPgRVU"
      },
      "execution_count": 87,
      "outputs": []
    },
    {
      "cell_type": "code",
      "source": [
        "##Finding sum of Total Impressions and Total Engagements for Account Type = Youtube\n",
        "\n",
        "youtube_impressions = df.loc[df['Account Type'] == 'YOUTUBE', 'Total Impressions']\n",
        "youtube_engagements = df.loc[df['Account Type'] == 'YOUTUBE', 'Total Engagements']\n",
        "total_youtube_impression = sum(youtube_impressions)\n",
        "total_youtube_engagements = sum(youtube_engagements)"
      ],
      "metadata": {
        "id": "V_CNxSJ8gUjj"
      },
      "execution_count": 88,
      "outputs": []
    },
    {
      "cell_type": "code",
      "source": [
        "##Finding sum of Total Impressions and Total Engagements for Account Type = LinkedIn\n",
        "\n",
        "linkedin_impressions = df.loc[df['Account Type'] == 'LINKEDIN_COMPANY', 'Total Impressions']\n",
        "linkedin_engagements = df.loc[df['Account Type'] == 'LINKEDIN_COMPANY', 'Total Engagements']\n",
        "total_linkedin_impression = sum(linkedin_impressions)\n",
        "total_linkedin_engagements = sum(linkedin_engagements)"
      ],
      "metadata": {
        "id": "9O3VbfXahowA"
      },
      "execution_count": 89,
      "outputs": []
    },
    {
      "cell_type": "markdown",
      "source": [
        "##In order to get the most from any of the postings we need to post it on fbpage under an unknown campaign or community campaign with media type as album or photo and based on the Tableau graph which was built for Question 2, we can see that Days from Tuesday till Friday attracts most people between the time frame of 9:00 a.m. in the Morning till 5:00 p.m. in the Evening."
      ],
      "metadata": {
        "id": "vbegOTwhx3vV"
      }
    },
    {
      "cell_type": "code",
      "source": [
        "##Finding the performance on each Account type\n",
        "\n",
        "twitter_performance = total_twitter_engagements/total_twitter_impression\n",
        "fb_performance = total_fbpage_engagements/total_fbpage_impression\n",
        "insta_performance = total_insta_engagements/total_insta_impression\n",
        "tiktok_performance = total_tiktok_engagements/total_tiktok_impression\n",
        "youtube_performance = total_youtube_engagements/total_youtube_impression\n",
        "linkedin_performance = total_linkedin_engagements/total_linkedin_impression\n",
        "print('Twitter ', twitter_performance)\n",
        "print('Facebook ', fb_performance)\n",
        "print('Instagram ', insta_performance)\n",
        "print('Tik Tok ', tiktok_performance)\n",
        "print('Youtube ', youtube_performance)\n",
        "print('LinkedIn', linkedin_performance)"
      ],
      "metadata": {
        "colab": {
          "base_uri": "https://localhost:8080/"
        },
        "id": "GpgX4CIdiWtg",
        "outputId": "7a278c7b-5c2e-4876-da3d-fda3c434b370"
      },
      "execution_count": 90,
      "outputs": [
        {
          "output_type": "stream",
          "name": "stdout",
          "text": [
            "Twitter  0.03100207809033119\n",
            "Facebook  0.17807349168266642\n",
            "Instagram  0.02352703187048675\n",
            "Tik Tok  0.054814780377674274\n",
            "Youtube  0.04332160249661288\n",
            "LinkedIn 0.0198359851405341\n"
          ]
        }
      ]
    }
  ]
}